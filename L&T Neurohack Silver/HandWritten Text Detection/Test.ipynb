{
 "cells": [
  {
   "cell_type": "code",
   "execution_count": null,
   "metadata": {},
   "outputs": [],
   "source": [
    "import cv2\n",
    "import typing\n",
    "import numpy as np\n",
    "import pandas as pd\n",
    "from tqdm import tqdm\n",
    "\n",
    "from mltu.inferenceModel import OnnxInferenceModel\n",
    "from mltu.utils.text_utils import ctc_decoder, get_cer, get_wer\n",
    "from mltu.transformers import ImageResizer\n",
    "from mltu.configs import BaseModelConfigs\n",
    "\n",
    "class ImageToWordModel(OnnxInferenceModel):\n",
    "    def __init__(self, char_list: typing.Union[str, list], *args, **kwargs):\n",
    "        super().__init__(*args, **kwargs)\n",
    "        self.char_list = char_list\n",
    "\n",
    "    def predict(self, image: np.ndarray):\n",
    "        image = ImageResizer.resize_maintaining_aspect_ratio(\n",
    "            image, *self.input_shapes[0][1:3][::-1]\n",
    "        )\n",
    "\n",
    "        image_pred = np.expand_dims(image, axis=0).astype(np.float32)\n",
    "        preds = self.model.run(self.output_names, {self.input_names[0]: image_pred})[0]\n",
    "        text = ctc_decoder(preds, self.char_list)[0]\n",
    "\n",
    "        return text\n",
    "\n",
    "if __name__ == \"__main__\":\n",
    "    configs = BaseModelConfigs.load(\"path_to_configs.yaml\")\n",
    "    model = ImageToWordModel(model_path=configs.model_path, char_list=configs.vocab)\n",
    "\n",
    "    df = pd.read_csv(\"path_to_val.csv\").values.tolist()\n",
    "\n",
    "    accum_cer, accum_wer = [], []\n",
    "    for image_path, label in tqdm(df):\n",
    "        image = cv2.imread(image_path.replace(\"\\\\\", \"/\"))\n",
    "\n",
    "        prediction_text = model.predict(image)\n",
    "\n",
    "        cer = get_cer(prediction_text, label)\n",
    "        wer = get_wer(prediction_text, label)\n",
    "        print(\"Image: \", image_path)\n",
    "        print(\"Label:\", label)\n",
    "        print(\"Prediction: \", prediction_text)\n",
    "        print(f\"CER: {cer}; WER: {wer}\")\n",
    "\n",
    "        accum_cer.append(cer)\n",
    "        accum_wer.append(wer)\n",
    "\n",
    "        cv2.imshow(prediction_text, image)\n",
    "        cv2.waitKey(0)\n",
    "        cv2.destroyAllWindows()\n",
    "\n",
    "    print(f\"Average CER: {np.mean(accum_cer)}, Average WER: {np.mean(accum_wer)}\")\n"
   ]
  }
 ],
 "metadata": {
  "kernelspec": {
   "display_name": "Try",
   "language": "python",
   "name": "python3"
  },
  "language_info": {
   "codemirror_mode": {
    "name": "ipython",
    "version": 3
   },
   "file_extension": ".py",
   "mimetype": "text/x-python",
   "name": "python",
   "nbconvert_exporter": "python",
   "pygments_lexer": "ipython3",
   "version": "3.9.20"
  }
 },
 "nbformat": 4,
 "nbformat_minor": 2
}
