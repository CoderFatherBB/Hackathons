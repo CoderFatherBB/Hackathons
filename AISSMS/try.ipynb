{
 "cells": [
  {
   "cell_type": "code",
   "execution_count": 17,
   "metadata": {},
   "outputs": [],
   "source": [
    "# import oss\n",
    "from langchain_core.prompts import ChatPromptTemplate\n",
    "from langchain_core.output_parsers import StrOutputParser\n",
    "from langchain_core.runnables import RunnablePassthrough\n",
    "import dateparser\n",
    "# from langchain.chat_models import ChatOpenAI\n",
    "from langchain_groq import ChatGroq\n",
    "import requests"
   ]
  },
  {
   "cell_type": "code",
   "execution_count": 18,
   "metadata": {},
   "outputs": [
    {
     "name": "stdout",
     "output_type": "stream",
     "text": [
      "🔗 Related Links: ['https://dfpd.gov.in/sugar_policy.html/en', 'https://agriharyana.gov.in/NFMSSugarCane', 'https://sugarcane.dac.gov.in/', 'https://dfpd.gov.in/directorate-of-sugar1.html/en', 'https://www.nfsm.gov.in/BriefNote/BN_Sugarcane.pdf']\n"
     ]
    }
   ],
   "source": [
    "import requests\n",
    "\n",
    "# Set your API keys\n",
    "SERPAPI_KEY = \"32c9a0f6319c0042a0f66eff091b1399f16c28f3daff2224083495deb08905ba\"\n",
    "# saumya_key = \"163d0a2c7a171e2b5e1651decea27e14f37f51d274d5e83e3e89c50cccd59825\"\n",
    "# GROQ_API_KEY = \"your_groq_api_key\"\n",
    "\n",
    "def web_search(query: str, num_results=5) -> list:\n",
    "    \"\"\"Search Google for relevant links using SerpAPI.\"\"\"\n",
    "    api_key = SERPAPI_KEY\n",
    "    url = \"https://serpapi.com/search\"\n",
    "    \n",
    "    params = {\n",
    "        \"q\": query,\n",
    "        \"api_key\": api_key,\n",
    "        \"num\": num_results\n",
    "    }\n",
    "    \n",
    "    response = requests.get(url, params=params)\n",
    "    data = response.json()\n",
    "    \n",
    "    # Extract top links\n",
    "    links = [result[\"link\"] for result in data.get(\"organic_results\", [])[:num_results]]\n",
    "    \n",
    "    return links if links else [\"No relevant links found.\"]\n",
    "\n",
    "# Example Query\n",
    "query = \"sugarcane agriculture from government of india yogna\"\n",
    "related_links = web_search(query)\n",
    "print(\"🔗 Related Links:\", related_links)\n"
   ]
  },
  {
   "cell_type": "code",
   "execution_count": 5,
   "metadata": {},
   "outputs": [],
   "source": [
    "llm = ChatGroq(\n",
    "    api_key=\"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\",\n",
    "    model=\"llama-3.3-70b-versatile\",\n",
    "    # model=\"deepseek-r1-distill-llama-70b\",\n",
    "    # model=\"llama-3.3-70b-specdec\",\n",
    ")"
   ]
  },
  {
   "cell_type": "code",
   "execution_count": 6,
   "metadata": {},
   "outputs": [],
   "source": [
    "rag_template = \"\"\"\n",
    "You are a ChatBot which Only have a main task to Understant the user problem and help find realated links and articals:\n",
    "This is the bellow code for it \n",
    "\n",
    "'''python\n",
    "def web_search(query: str, num_results=5) -> list:\n",
    "    Search Google for relevant links using SerpAPI.\n",
    "    api_key = SERPAPI_KEY\n",
    "    url = \"https://serpapi.com/search\"\n",
    "    \n",
    "    params = {{\n",
    "        \"q\": query,\n",
    "        \"api_key\": api_key,\n",
    "        \"num\": num_results\n",
    "    }}\n",
    "    \n",
    "    response = requests.get(url, params=params)\n",
    "    data = response.json()\n",
    "    \n",
    "    # Extract top links\n",
    "    links = [result[\"link\"] for result in data.get(\"organic_results\", [])[:num_results]]\n",
    "    \n",
    "    return links if links else [\"No relevant links found.\"]\n",
    "'''\n",
    "\n",
    "What you need to do is 3 things if in the given context there is any problem and it solution\n",
    "you need to find best query which i can use in the function to get the links from youtube \n",
    "and if there is any product mentioned in it context which will help solving that problem and will be used in the solution you will give the best query to find the products link on amazon and flipkart\n",
    "and you will give one more query always to find the related government yojan/schemes related to that context.\n",
    "\n",
    "And you will always give the message in JSON format no matter what always give in JSON and not think more \n",
    "\n",
    "Example: \n",
    "{{\n",
    "    \"YouTube\" : \"query\",\n",
    "    \"Product\" : \"query\",\n",
    "    \"Government Schemes \"query\"\n",
    "}}\n",
    "\n",
    "Context: {context}\n",
    "\"\"\"\n",
    "rag_prompt = ChatPromptTemplate.from_template(rag_template)\n",
    "rag_chain = (\n",
    "    {\"context\": RunnablePassthrough(),}\n",
    "    | rag_prompt\n",
    "    | llm\n",
    "    | StrOutputParser()\n",
    ")\n"
   ]
  },
  {
   "cell_type": "code",
   "execution_count": 11,
   "metadata": {},
   "outputs": [],
   "source": [
    "import json\n",
    "import re\n",
    "def parse_response(response):\n",
    "    # Extract JSON content between {}\n",
    "    match = re.search(r'\\{(.|\\n)*\\}', response)\n",
    "    if match:\n",
    "        response = match.group(0)  # Extracted JSON as string\n",
    "    else:\n",
    "        return response\n",
    "    \n",
    "    if response.startswith(\"{\"):\n",
    "        response = json.loads(response)\n",
    "\n",
    "        youtube_link = []\n",
    "        product_link = []\n",
    "        schemes_link = []\n",
    "\n",
    "        if response['YouTube']:\n",
    "            youtube_link = web_search(response['YouTube'])\n",
    "        if response['Product']:\n",
    "            product_link = web_search(response['Product'])\n",
    "        if response['Government Schemes']:\n",
    "            schemes_link = web_search(response['Government Schemes'])\n",
    "\n",
    "        return youtube_link, product_link, schemes_link\n",
    "    "
   ]
  },
  {
   "cell_type": "code",
   "execution_count": 14,
   "metadata": {},
   "outputs": [],
   "source": [
    "user_input = input()\n",
    "response = rag_chain.invoke({\"context\": user_input})\n",
    "response = parse_response(response)"
   ]
  },
  {
   "cell_type": "code",
   "execution_count": null,
   "metadata": {},
   "outputs": [
    {
     "name": "stdout",
     "output_type": "stream",
     "text": [
      "['https://eos.com/blog/how-to-grow-sugar-cane/', 'https://www.britannica.com/plant/sugarcane', 'https://www.lsuagcenter.com/nr/rdonlyres/807e6478-e556-44a8-8440-16a2cc4bfd4c/94894/sugarcaneproductionhandbook.pdf', 'https://www.ars.usda.gov/oc/utm/the-role-of-precision-agriculture-in-sugarcane-production/']\n"
     ]
    }
   ],
   "source": [
    "print(response)"
   ]
  },
  {
   "cell_type": "code",
   "execution_count": null,
   "metadata": {},
   "outputs": [],
   "source": []
  }
 ],
 "metadata": {
  "kernelspec": {
   "display_name": "base",
   "language": "python",
   "name": "python3"
  },
  "language_info": {
   "codemirror_mode": {
    "name": "ipython",
    "version": 3
   },
   "file_extension": ".py",
   "mimetype": "text/x-python",
   "name": "python",
   "nbconvert_exporter": "python",
   "pygments_lexer": "ipython3",
   "version": "3.12.2"
  }
 },
 "nbformat": 4,
 "nbformat_minor": 2
}
