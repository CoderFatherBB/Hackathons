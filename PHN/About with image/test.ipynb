{
 "cells": [
  {
   "cell_type": "code",
   "execution_count": 3,
   "metadata": {},
   "outputs": [],
   "source": [
    "import requests\n",
    "\n",
    "def get_user_location_and_weather(user_ip: str):\n",
    "    \"\"\"\n",
    "    Detect the user's location based on their IP address and fetch weather information.\n",
    "    \n",
    "    Parameters:\n",
    "        user_ip (str): The IP address of the user.\n",
    "        \n",
    "    Returns:\n",
    "        dict: A dictionary containing location, weather conditions, and temperature, or an error message.\n",
    "    \"\"\"\n",
    "    # 1. Get user's approximate location using an IP geolocation API\n",
    "    ip_api_url = f\"http://ip-api.com/json/{user_ip}\"\n",
    "    location_response = requests.get(ip_api_url)\n",
    "    location_data = location_response.json()\n",
    "\n",
    "    if location_data.get('status') != 'success':\n",
    "        return {\"error\": \"Could not determine location\"}\n",
    "\n",
    "    latitude = location_data['lat']\n",
    "    longitude = location_data['lon']\n",
    "    city = location_data.get('city', 'Unknown')\n",
    "    country = location_data.get('country', 'Unknown')\n",
    "\n",
    "    # 2. Fetch weather info using a weather API\n",
    "    weather_api_key = \"9cc32b17eb9445a7669256a9fddd9f01\"  # Replace with your OpenWeatherMap API Key\n",
    "    weather_api_url = (\n",
    "        f\"http://api.openweathermap.org/data/2.5/weather?lat={latitude}&lon={longitude}&appid={weather_api_key}&units=metric\"\n",
    "    )\n",
    "\n",
    "    weather_response = requests.get(weather_api_url)\n",
    "    if weather_response.status_code != 200:\n",
    "        return {\"error\": \"Could not fetch weather data\"}\n",
    "\n",
    "    weather_data = weather_response.json()\n",
    "    weather_conditions = weather_data['weather'][0]['description'].capitalize()\n",
    "    temperature = weather_data['main']['temp']\n",
    "\n",
    "    return {\n",
    "        \"location\": f\"{city}, {country}\",\n",
    "        \"latitude\": latitude,\n",
    "        \"longitude\": longitude,\n",
    "        \"weather\": weather_conditions,\n",
    "        \"temperature\": f\"{temperature}°C\"\n",
    "    }\n",
    "\n",
    "# Example usage:\n",
    "# user_ip = \"8.8.8.8\"  # Replace with a valid IP address or dynamically fetch it\n",
    "# print(get_user_location_and_weather(user_ip))\n"
   ]
  },
  {
   "cell_type": "code",
   "execution_count": 2,
   "metadata": {},
   "outputs": [
    {
     "ename": "TypeError",
     "evalue": "get_user_location_and_weather() missing 1 required positional argument: 'user_ip'",
     "output_type": "error",
     "traceback": [
      "\u001b[0;31m---------------------------------------------------------------------------\u001b[0m",
      "\u001b[0;31mTypeError\u001b[0m                                 Traceback (most recent call last)",
      "Cell \u001b[0;32mIn[2], line 1\u001b[0m\n\u001b[0;32m----> 1\u001b[0m get_user_location_and_weather()\n",
      "\u001b[0;31mTypeError\u001b[0m: get_user_location_and_weather() missing 1 required positional argument: 'user_ip'"
     ]
    }
   ],
   "source": [
    "get_user_location_and_weather()"
   ]
  },
  {
   "cell_type": "code",
   "execution_count": null,
   "metadata": {},
   "outputs": [],
   "source": []
  }
 ],
 "metadata": {
  "kernelspec": {
   "display_name": "tess",
   "language": "python",
   "name": "python3"
  },
  "language_info": {
   "codemirror_mode": {
    "name": "ipython",
    "version": 3
   },
   "file_extension": ".py",
   "mimetype": "text/x-python",
   "name": "python",
   "nbconvert_exporter": "python",
   "pygments_lexer": "ipython3",
   "version": "3.12.7"
  }
 },
 "nbformat": 4,
 "nbformat_minor": 2
}
