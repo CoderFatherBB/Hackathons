{
 "cells": [
  {
   "cell_type": "code",
   "execution_count": 1,
   "metadata": {},
   "outputs": [],
   "source": [
    "from langchain_core.prompts import ChatPromptTemplate\n",
    "from langchain_core.output_parsers import StrOutputParser\n",
    "from langchain_core.runnables import RunnablePassthrough\n",
    "from langchain_community.vectorstores import Chroma\n",
    "from langchain_text_splitters import RecursiveCharacterTextSplitter\n",
    "from langchain_community.document_loaders import PyPDFDirectoryLoader\n",
    "from langchain_community import embeddings\n",
    "from langchain.chat_models import ChatOllama\n",
    "from langchain_community.embeddings import OllamaEmbeddings\n",
    "from langchain_groq import ChatGroq\n",
    "import textwrap"
   ]
  },
  {
   "cell_type": "code",
   "execution_count": 2,
   "metadata": {},
   "outputs": [],
   "source": [
    "loader = PyPDFDirectoryLoader(\"data\")\n",
    "the_text = loader.load()\n",
    "text_splitter = RecursiveCharacterTextSplitter(chunk_size=1000, chunk_overlap=200)\n",
    "docs = text_splitter.split_documents(the_text)"
   ]
  },
  {
   "cell_type": "code",
   "execution_count": 3,
   "metadata": {},
   "outputs": [
    {
     "name": "stderr",
     "output_type": "stream",
     "text": [
      "/var/folders/dq/f61q7zlj4qb_kx8ly7hp73hh0000gp/T/ipykernel_50863/3918979500.py:4: LangChainDeprecationWarning: The class `OllamaEmbeddings` was deprecated in LangChain 0.3.1 and will be removed in 1.0.0. An updated version of the class exists in the :class:`~langchain-ollama package and should be used instead. To use it run `pip install -U :class:`~langchain-ollama` and import as `from :class:`~langchain_ollama import OllamaEmbeddings``.\n",
      "  embedding=OllamaEmbeddings(model='nomic-embed-text'),\n"
     ]
    }
   ],
   "source": [
    "vectorstore = Chroma.from_documents(\n",
    "    documents=docs,\n",
    "    collection_name=\"ollama_embeds\",\n",
    "    embedding=OllamaEmbeddings(model='nomic-embed-text'),\n",
    ")\n",
    "retriever = vectorstore.as_retriever()"
   ]
  },
  {
   "cell_type": "code",
   "execution_count": 4,
   "metadata": {},
   "outputs": [],
   "source": [
    "llm = ChatGroq(\n",
    "    api_key = \"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\",\n",
    "    model=\"llama3-8b-8192\"\n",
    ")"
   ]
  },
  {
   "cell_type": "code",
   "execution_count": 5,
   "metadata": {},
   "outputs": [],
   "source": [
    "rag_template = \"\"\"Answer the question based only on the following context:\n",
    "{context}\n",
    "Question: {question}\n",
    "\"\"\"\n",
    "rag_prompt = ChatPromptTemplate.from_template(rag_template)\n",
    "rag_chain = (\n",
    "    {\"context\": retriever, \"question\": RunnablePassthrough()}\n",
    "    | rag_prompt\n",
    "    | llm\n",
    "    | StrOutputParser()\n",
    ")"
   ]
  },
  {
   "cell_type": "code",
   "execution_count": 6,
   "metadata": {},
   "outputs": [
    {
     "name": "stdout",
     "output_type": "stream",
     "text": [
      "Based on the provided context, here are some key points about sugarcane\n",
      "agriculture:  1. **Soil Requirements**: Sugarcane grows best on medium-heavy\n",
      "soils, but can also be raised on lighter soils (sand) or heavy clay soils,\n",
      "provided there is adequate irrigation available in the former type and drainage\n",
      "is good in the latter type. 2. **Atmospheric Conditions**: Sugarcane grows well\n",
      "at a temperature of 21° to 26.2°C, with an ideal temperature for germination\n",
      "between 20-23.7°C. Temperatures above 32.2°C and below 18.3°C can arrest plant\n",
      "growth. 3. **Sunlight**: Sugarcane loves warmth and sunshine, requiring long\n",
      "days for vegetative growth and short days for reproductive growth. 4. **Water\n",
      "Requirements**: Sugarcane needs optimum moisture during all stages of growth,\n",
      "with water requirements varying from 200-300 mm depending on soil type and\n",
      "weather conditions. Timely irrigations can result in more juice with high\n",
      "sucrose contents. 5. **Irrigation**: The crop should be grown in areas of well-\n",
      "distributed rainfall or under an assured and adequate irrigation. In tropical\n",
      "India, the total water requirement depends on various factors, including soil\n",
      "type, seasonal conditions, variety, planting method, and manuring rate. 6.\n",
      "**Pests and Diseases**: Sugarcane is affected by over 60 insects, with about 10\n",
      "being more important for yield loss. Major insects damaging sugarcane in Tamil\n",
      "Nadu and adjoining states include borers, sucking pests, and soil-dwelling\n",
      "insects, which can account for 20% loss in cane yield and 15% loss in sugar\n",
      "yield.  These points summarize the key aspects of sugarcane agriculture\n",
      "mentioned in the provided context.\n"
     ]
    }
   ],
   "source": [
    "response = rag_chain.invoke(\"Tell me about sugarcane agriculture\")\n",
    "print(textwrap.fill(response, width=80))"
   ]
  },
  {
   "cell_type": "code",
   "execution_count": null,
   "metadata": {},
   "outputs": [],
   "source": []
  }
 ],
 "metadata": {
  "kernelspec": {
   "display_name": "tess",
   "language": "python",
   "name": "python3"
  },
  "language_info": {
   "codemirror_mode": {
    "name": "ipython",
    "version": 3
   },
   "file_extension": ".py",
   "mimetype": "text/x-python",
   "name": "python",
   "nbconvert_exporter": "python",
   "pygments_lexer": "ipython3",
   "version": "3.12.7"
  }
 },
 "nbformat": 4,
 "nbformat_minor": 2
}
