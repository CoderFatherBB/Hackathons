{
 "cells": [
  {
   "cell_type": "code",
   "execution_count": 12,
   "metadata": {},
   "outputs": [],
   "source": [
    "from pymongo import MongoClient\n",
    "from datetime import datetime\n",
    "\n",
    "Connection_data = {\n",
    "    \"mongo_url\": \"mongodb://localhost:27018/\",\n",
    "    \"db_name\": \"cropGuard\",\n",
    "    \"collection_name\": \"personalData\"\n",
    "}"
   ]
  },
  {
   "cell_type": "code",
   "execution_count": 13,
   "metadata": {},
   "outputs": [],
   "source": [
    "client = MongoClient(Connection_data[\"mongo_url\"])\n",
    "db = client[Connection_data[\"db_name\"]]\n",
    "collection = db[Connection_data[\"collection_name\"]]"
   ]
  },
  {
   "cell_type": "code",
   "execution_count": 14,
   "metadata": {},
   "outputs": [],
   "source": [
    "data = {\n",
    "    \"user_id\": int,\n",
    "    \"weekly_update \": {\n",
    "        \"week\": int,\n",
    "        \"week_start\": datetime,\n",
    "        \"responce\": str,\n",
    "    }\n",
    "}"
   ]
  },
  {
   "cell_type": "code",
   "execution_count": 25,
   "metadata": {},
   "outputs": [
    {
     "name": "stdout",
     "output_type": "stream",
     "text": [
      "Data inserted successfully\n",
      "User added successfully\n"
     ]
    }
   ],
   "source": [
    "def insert_data(collection, data):\n",
    "    # Add data to the collection\n",
    "    collection.insert_one(data)\n",
    "    print(\"Data inserted successfully\")\n",
    "\n",
    "def checkuser(user_id):\n",
    "    # Check if user exists\n",
    "    user = collection.find_one({\"user_id\": user_id})\n",
    "    if user:\n",
    "        return True\n",
    "    else:\n",
    "        return False\n",
    "\n",
    "dummy_data_points = [\n",
    "    {\n",
    "        \"user_id\": 2,\n",
    "        \"weekly_update\": [\n",
    "            {\n",
    "                \"week\": 1,\n",
    "                \"week_start\": datetime(2021, 1, 1),\n",
    "                \"responce\": \"I am doing well\"\n",
    "            },{\n",
    "                \"week\": 2,\n",
    "                \"week_start\": datetime(2021, 1, 8),\n",
    "                \"responce\": \"I am doing well\"\n",
    "            },{\n",
    "                \"week\": 3,\n",
    "                \"week_start\": datetime(2021, 1, 15),\n",
    "                \"responce\": \"I am doing well\"\n",
    "            },{\n",
    "                \"week\": 4,\n",
    "                \"week_start\": datetime(2021, 1, 22),\n",
    "                \"responce\": \"I am doing well\"\n",
    "            }\n",
    "        ]\n",
    "    }\n",
    "]\n",
    "\n",
    "\n",
    "def add_data(collection, dummy_data_points):\n",
    "    if checkuser(dummy_data_points[0][\"user_id\"]):\n",
    "        data = dummy_data_points[0]['weekly_update']\n",
    "        collection.update_one({\"user_id\": dummy_data_points[0][\"user_id\"]}, {\"$push\": {\"weekly_update\": data}})\n",
    "    else:\n",
    "        insert_data(collection, dummy_data_points[0])\n",
    "        print(\"User added successfully\")\n",
    "\n",
    "add_data(collection, dummy_data_points)"
   ]
  },
  {
   "cell_type": "code",
   "execution_count": 26,
   "metadata": {},
   "outputs": [],
   "source": [
    "data = [{\n",
    "    \"user_id\": 2,\n",
    "    \"weekly_update\": {\n",
    "        \"week\": 5,\n",
    "        \"week_start\": datetime(2021, 1, 1),\n",
    "        \"responce\": \"I am doing well\"\n",
    "    }\n",
    "}]\n",
    "\n",
    "add_data(collection, data)"
   ]
  },
  {
   "cell_type": "code",
   "execution_count": 28,
   "metadata": {},
   "outputs": [],
   "source": [
    "data = collection.find_one({\"user_id\": 2})"
   ]
  },
  {
   "cell_type": "code",
   "execution_count": 37,
   "metadata": {},
   "outputs": [
    {
     "name": "stdout",
     "output_type": "stream",
     "text": [
      "Week:  1\n",
      "Week Start:  2021-01-01 00:00:00\n",
      "Responce:  I am doing well\n",
      "\n",
      "\n",
      "Week:  2\n",
      "Week Start:  2021-01-08 00:00:00\n",
      "Responce:  I am doing well\n",
      "\n",
      "\n",
      "Week:  3\n",
      "Week Start:  2021-01-15 00:00:00\n",
      "Responce:  I am doing well\n",
      "\n",
      "\n",
      "Week:  4\n",
      "Week Start:  2021-01-22 00:00:00\n",
      "Responce:  I am doing well\n",
      "\n",
      "\n",
      "Week:  5\n",
      "Week Start:  2021-01-01 00:00:00\n",
      "Responce:  I am doing well\n",
      "\n",
      "\n"
     ]
    }
   ],
   "source": [
    "for weekly_update in data[\"weekly_update\"]:\n",
    "    # print(weekly_update)\n",
    "    print(\"Week: \", weekly_update[\"week\"])\n",
    "    print(\"Week Start: \", weekly_update[\"week_start\"])\n",
    "    print(\"Responce: \", weekly_update[\"responce\"])\n",
    "    print(\"\\n\")"
   ]
  },
  {
   "cell_type": "code",
   "execution_count": null,
   "metadata": {},
   "outputs": [],
   "source": []
  }
 ],
 "metadata": {
  "kernelspec": {
   "display_name": "Python 3",
   "language": "python",
   "name": "python3"
  },
  "language_info": {
   "codemirror_mode": {
    "name": "ipython",
    "version": 3
   },
   "file_extension": ".py",
   "mimetype": "text/x-python",
   "name": "python",
   "nbconvert_exporter": "python",
   "pygments_lexer": "ipython3",
   "version": "3.13.0"
  }
 },
 "nbformat": 4,
 "nbformat_minor": 2
}
