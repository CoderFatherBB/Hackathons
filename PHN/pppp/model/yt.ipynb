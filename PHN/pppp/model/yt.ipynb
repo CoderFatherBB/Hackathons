{
 "cells": [
  {
   "cell_type": "code",
   "execution_count": 1,
   "metadata": {},
   "outputs": [],
   "source": [
    "from ultralytics import YOLO"
   ]
  },
  {
   "cell_type": "code",
   "execution_count": 2,
   "metadata": {},
   "outputs": [],
   "source": [
    "model = YOLO(\"/Users/Saumya/PHN/Test flask/model/Step-1-yolov8.pt\")"
   ]
  },
  {
   "cell_type": "code",
   "execution_count": 3,
   "metadata": {},
   "outputs": [],
   "source": [
    "model2 = YOLO(\"/Users/Saumya/PHN/Test flask/model/Step-2-yolov8.pt\")"
   ]
  },
  {
   "cell_type": "code",
   "execution_count": null,
   "metadata": {},
   "outputs": [],
   "source": [
    "i = '/Users/Saumya/PHN/ALL Dataset/Kaggle Dataset Sugarcane/Healthy/healthy (1).jpeg'\n",
    "r=model.predict(i,verbose=False)\n",
    "Result = [\"Disease\",\"Dried\",\"Healthy\"]\n",
    "P = Result[r[0].probs.top1]\n",
    "if P == \"Disease\":\n",
    "    D=['Banded Chlorosis','Brown Rust', 'Brown Spot', 'Grassy shoot', 'Mosaic', 'Pokkah Boeng', 'RedRot', 'RedRust', 'Sett Rot', 'Viral Disease', 'Yellow Leaf', 'Smut']\n",
    "    d=model2.predict(i,verbose=False)\n",
    "    print(f\"Disease detected: {D[d[0].probs.top1]}\")\n",
    "elif P == \"Dried\":\n",
    "    print(\"Dried Leaves Can't Do Anything now\")\n",
    "elif P == \"Healthy\":\n",
    "    print(\"All Good Yayyyy!!\")"
   ]
  },
  {
   "cell_type": "code",
   "execution_count": 10,
   "metadata": {},
   "outputs": [
    {
     "data": {
      "text/plain": [
       "96"
      ]
     },
     "execution_count": 10,
     "metadata": {},
     "output_type": "execute_result"
    }
   ],
   "source": [
    "i = '/Users/Saumya/PHN/ALL Dataset/Kaggle Dataset Sugarcane/Healthy/healthy (1).jpeg'\n",
    "r=model.predict(i,verbose=False)\n",
    "float(max(r[0].probs.data*100))"
   ]
  }
 ],
 "metadata": {
  "kernelspec": {
   "display_name": "tess",
   "language": "python",
   "name": "python3"
  },
  "language_info": {
   "codemirror_mode": {
    "name": "ipython",
    "version": 3
   },
   "file_extension": ".py",
   "mimetype": "text/x-python",
   "name": "python",
   "nbconvert_exporter": "python",
   "pygments_lexer": "ipython3",
   "version": "3.12.7"
  }
 },
 "nbformat": 4,
 "nbformat_minor": 2
}
