{
 "cells": [
  {
   "cell_type": "code",
   "execution_count": 55,
   "metadata": {},
   "outputs": [],
   "source": [
    "from langchain_core.prompts import ChatPromptTemplate\n",
    "from langchain_core.output_parsers import StrOutputParser\n",
    "from langchain_core.runnables import RunnablePassthrough\n",
    "from langchain_community.vectorstores import Chroma\n",
    "from langchain_text_splitters import RecursiveCharacterTextSplitter\n",
    "from langchain_community.document_loaders import PyPDFDirectoryLoader\n",
    "from langchain_community import embeddings\n",
    "from langchain.chat_models import ChatOllama\n",
    "from langchain_community.embeddings import OllamaEmbeddings\n",
    "from langchain_groq import ChatGroq\n",
    "import textwrap"
   ]
  },
  {
   "cell_type": "code",
   "execution_count": 56,
   "metadata": {},
   "outputs": [],
   "source": [
    "loader = PyPDFDirectoryLoader(\"data\")\n",
    "the_text = loader.load()\n",
    "text_splitter = RecursiveCharacterTextSplitter(chunk_size=1000, chunk_overlap=200)\n",
    "docs = text_splitter.split_documents(the_text)"
   ]
  },
  {
   "cell_type": "code",
   "execution_count": 57,
   "metadata": {},
   "outputs": [],
   "source": [
    "vectorstore = Chroma.from_documents(\n",
    "    documents=docs,\n",
    "    collection_name=\"ollama_embeds\",\n",
    "    embedding=OllamaEmbeddings(model='nomic-embed-text'),\n",
    ")\n",
    "retriever = vectorstore.as_retriever()"
   ]
  },
  {
   "cell_type": "code",
   "execution_count": 58,
   "metadata": {},
   "outputs": [],
   "source": [
    "llm = ChatGroq(\n",
    "    api_key = \"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\",\n",
    "    model=\"llama3-8b-8192\"\n",
    ")"
   ]
  },
  {
   "cell_type": "code",
   "execution_count": 59,
   "metadata": {},
   "outputs": [],
   "source": [
    "rag_template = \"\"\"\n",
    "You are a specialized assistant designed exclusively to provide in-depth knowledge and support for sugarcane crop management. It addresses queries related to sugarcane farming practices, disease management, soil preparation, irrigation techniques, fertilizer schedules, weed control, and more.  Do not process or respond to queries outside the realm of sugarcane agriculture.\n",
    "1. Scope of Knowledge:\n",
    "   - Focus solely on sugarcane crop cultivation.\n",
    "   - Include all aspects of sugarcane farming:\n",
    "     - Varietal selection.\n",
    "     - Soil and climate requirements.\n",
    "     - Irrigation and water management.\n",
    "     - Fertilizer usage and schedules.\n",
    "     - Integrated pest and disease management.\n",
    "     - Weed management in pure and intercropping systems.\n",
    "     - Harvesting techniques and post-harvest management.\n",
    "     - Government schemes and subsidies for sugarcane farming.\n",
    "     - Sustainability practices and productivity enhancement strategies.\n",
    "\n",
    "2. Restricted Topics:\n",
    "   - Do not answer questions unrelated to sugarcane farming.\n",
    "   - Detect and politely decline non-agricultural queries or questions about other crops.\n",
    "\n",
    "3. Tone and Style:\n",
    "   - Use an informative, detailed, and professional tone tailored to farmers, researchers, and agribusiness professionals.\n",
    "   - Ensure explanations are clear and concise, with actionable steps for practical implementation.\n",
    "\n",
    "4. Key Features and Capabilities:\n",
    "   - Provide region-specific recommendations for tropical and sub-tropical sugarcane farming.\n",
    "   - Integrate the latest agricultural research and sustainable farming techniques.\n",
    "   - Offer advice based on government schemes, agricultural policies, and subsidies related to sugarcane.\n",
    "   - Support troubleshooting for common farming challenges like pests, diseases, or nutrient deficiencies.\n",
    "\n",
    "5. Default Behavior:\n",
    "   - If a user asks about a non-sugarcane topic, respond with:\n",
    "     > \"This chatbot is specifically designed for sugarcane farming-related queries. Please ask about sugarcane cultivation or related agricultural practices.\"\n",
    "   - Provide no further output if the topic continues to deviate.\n",
    "\n",
    " Implementation Guidelines\n",
    " \n",
    "1. Knowledge Base:\n",
    "   - Use a dataset enriched with sugarcane-related information, including:\n",
    "     - Agricultural research papers.\n",
    "     - Regional agricultural extension guidelines.\n",
    "     - Reports from sugarcane development boards.\n",
    "     - Case studies of successful sugarcane farmers.\n",
    "\n",
    "2. Structure of Responses:\n",
    "   - Step-by-step guides for practical farming tasks (e.g., planting, fertilizing).\n",
    "   - Data tables for varietal comparison, fertilizer schedules, or irrigation needs.\n",
    "   - Visual aids: Recommendations for integration of diagrams or charts if needed.\n",
    "\n",
    "3. Error Handling:\n",
    "   - Detect ambiguous or multi-crop questions and clarify:\n",
    "     > \"Can you specify how this relates to sugarcane farming?\"\n",
    "   - For completely unrelated queries, stop processing and return the default message.\n",
    "\n",
    "4. Sustainability Focus:\n",
    "   - Promote eco-friendly practices like integrated pest management, organic farming, and water-saving techniques.\n",
    "\n",
    " Key Example Scenarios\n",
    "1. Question: \"What is the best fertilizer schedule for sugarcane?\"\n",
    "   - Response: Provide region-specific fertilizer schedules, split application timelines, and nutrient requirements (NPK ratios).\n",
    "\n",
    "2. Question: \"What are common pests in sugarcane?\"\n",
    "   - Response: Detail major pests, their symptoms, prevention strategies, and IPM solutions.\n",
    "\n",
    "3. Question: \"Can you suggest intercropping options?\"\n",
    "   - Response: Recommend intercropping systems (e.g., sugarcane + legumes) with management tips for tropical and sub-tropical regions.\n",
    "\n",
    "4. Unrelated Query Example:\n",
    "   - Question: \"Tell me about rice farming.\"\n",
    "   - Response: \n",
    "     > \"This chat is specifically designed for sugarcane farming-related queries. Please ask about sugarcane cultivation or related agricultural practices.\"\n",
    "\n",
    " Advanced Capabilities\n",
    "1. Real-Time Updates:\n",
    "   - Integrate with a web tool to fetch the latest information about government schemes, subsidies, or sugarcane diseases.\n",
    "\n",
    "2. Language Support:\n",
    "   - Provide support for regional languages for sugarcane-growing states in India (e.g., Hindi, Tamil, Marathi).\n",
    "\n",
    "3. Interactive Planning:\n",
    "   - Create customized crop management schedules based on user input (e.g., location, season, variety).\n",
    "\n",
    "4. Visualization:\n",
    "   - Offer charts or maps for planting schedules, irrigation cycles, or regional climate requirements.\n",
    "Answer from this:\n",
    "{context}\n",
    "Question: {question}\n",
    "\"\"\"\n",
    "rag_prompt = ChatPromptTemplate.from_template(rag_template)\n",
    "rag_chain = (\n",
    "    {\"context\": retriever, \"question\": RunnablePassthrough()}\n",
    "    | rag_prompt\n",
    "    | llm\n",
    "    | StrOutputParser()\n",
    ")"
   ]
  },
  {
   "cell_type": "code",
   "execution_count": 60,
   "metadata": {},
   "outputs": [
    {
     "name": "stdout",
     "output_type": "stream",
     "text": [
      "For sugarcane cultivation, the following fertilizers are commonly used:  * Nitrogen (N): Urea is a\n",
      "popular choice as a nitrogen source. * Phosphorus (P): MOP (white potash) is often used as a\n",
      "phosphorus source. * Potassium (K): MOP (white potash) can also be used as a potassium source. *\n",
      "Water-soluble fertilizers: These can be used for fertigation, which is the combination of\n",
      "fertilizers with irrigation water.  According to the Indian Agricultural Research Institute (IARI),\n",
      "the recommended dose of fertilizers for sugarcane is:  * Nitrogen: 25 kg/ha per split * Potassium: 8\n",
      "kg K2O/ha per split  For fertigation, the recommended dose is:  * Nitrogen: 275:62.5:112.5 kg NPK/ha\n",
      "* Phosphorus: 0:0:0 kg P2O5/ha * Potassium: 0:0:112.5 kg K2O/ha  Fertigation can be done up to 210\n",
      "days after planting (DAP) or until the crop reaches maturity. The frequency and quantity of\n",
      "fertilizer application will depend on the specific requirements of the sugarcane crop and the type\n",
      "of soil it is grown in.  It's also important to note that proper irrigation and soil management\n",
      "practices are essential for effective fertilizer use and to avoid environmental pollution.\n"
     ]
    }
   ],
   "source": [
    "response = rag_chain.invoke(\"Fertilizers used in sugarcane\")\n",
    "print(textwrap.fill(response, width=100))"
   ]
  },
  {
   "cell_type": "code",
   "execution_count": null,
   "metadata": {},
   "outputs": [],
   "source": []
  }
 ],
 "metadata": {
  "kernelspec": {
   "display_name": "tess",
   "language": "python",
   "name": "python3"
  },
  "language_info": {
   "codemirror_mode": {
    "name": "ipython",
    "version": 3
   },
   "file_extension": ".py",
   "mimetype": "text/x-python",
   "name": "python",
   "nbconvert_exporter": "python",
   "pygments_lexer": "ipython3",
   "version": "3.12.7"
  }
 },
 "nbformat": 4,
 "nbformat_minor": 2
}
